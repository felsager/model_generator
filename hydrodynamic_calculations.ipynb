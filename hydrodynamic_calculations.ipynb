{
 "cells": [
  {
   "cell_type": "code",
   "execution_count": 3,
   "metadata": {},
   "outputs": [],
   "source": [
    "import numpy as np\n",
    "import matplotlib.pyplot as plt"
   ]
  },
  {
   "cell_type": "code",
   "execution_count": 4,
   "metadata": {},
   "outputs": [],
   "source": [
    "l_x = 0.3 # m\n",
    "l_y = 0.3 # m\n",
    "l_z = 0.2 # m\n",
    "m = 18.0 # kg"
   ]
  },
  {
   "attachments": {},
   "cell_type": "markdown",
   "metadata": {},
   "source": [
    "The linear added mass (the most significant) is calculated using the approximation given on page 38 of Fossen's book \"Guidance and control of ocean vehicles\":"
   ]
  },
  {
   "cell_type": "code",
   "execution_count": 5,
   "metadata": {},
   "outputs": [
    {
     "name": "stdout",
     "output_type": "stream",
     "text": [
      "xDotU =  73.03125 yDotU =  73.03125 zDotU =  109.546875\n"
     ]
    }
   ],
   "source": [
    "\"\"\" Added linear mass coefficients in sea water for a 2D rectangle \"\"\"\n",
    "def A(a, b):\n",
    "    rho = 1025 # kg/m^3 nominal seawater density\n",
    "    return 4.75 * rho * a/2 * b/2\n",
    "\n",
    "xDotU = A(l_y, l_z)\n",
    "yDotU = A(l_x, l_z)\n",
    "zDotU = A(l_x, l_y)\n",
    "print(\"xDotU = \", xDotU, \"yDotU = \", yDotU, \"zDotU = \", zDotU)\n"
   ]
  },
  {
   "cell_type": "code",
   "execution_count": null,
   "metadata": {},
   "outputs": [],
   "source": []
  }
 ],
 "metadata": {
  "kernelspec": {
   "display_name": "torch_env",
   "language": "python",
   "name": "python3"
  },
  "language_info": {
   "codemirror_mode": {
    "name": "ipython",
    "version": 3
   },
   "file_extension": ".py",
   "mimetype": "text/x-python",
   "name": "python",
   "nbconvert_exporter": "python",
   "pygments_lexer": "ipython3",
   "version": "3.8.13"
  },
  "orig_nbformat": 4
 },
 "nbformat": 4,
 "nbformat_minor": 2
}
