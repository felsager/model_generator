{
 "cells": [
  {
   "cell_type": "code",
   "execution_count": 1,
   "metadata": {},
   "outputs": [],
   "source": [
    "import numpy as np\n",
    "import matplotlib.pyplot as plt"
   ]
  },
  {
   "cell_type": "code",
   "execution_count": 2,
   "metadata": {},
   "outputs": [],
   "source": [
    "l_x = 0.3 # m\n",
    "l_y = 0.3 # m\n",
    "l_z = 0.2 # m\n",
    "m = 18.0 # kg"
   ]
  },
  {
   "attachments": {},
   "cell_type": "markdown",
   "metadata": {},
   "source": [
    "Added mass using the formula $M=(\\rho V/2)(1+\\kappa)$"
   ]
  },
  {
   "cell_type": "code",
   "execution_count": null,
   "metadata": {},
   "outputs": [],
   "source": []
  },
  {
   "attachments": {},
   "cell_type": "markdown",
   "metadata": {},
   "source": [
    "ChatGPT output:\n",
    "Given a box of dimensions $L=0.3\\text{m}$, $W=0.3\\text{m}$ and $H=0.2\\text{m}$ and mass $m=18\\text{kg}$, please provide approximations (including used formulas with direct source) for all of the needed parameters to create the hydrodynamics model in Gazebo.\n",
    "$zDotW$: Added mass in z direction [kg]\n",
    "\n",
    "Calculation: $zDotW = \\frac{1}{12}m(3h^2+w^2)$ (source: Fossen, T. I. (2011). Handbook of marine craft hydrodynamics and motion control. John Wiley & Sons.)\n",
    "\n",
    "$kDotP$: Added mass in roll direction [kgm^2]\n",
    "\n",
    "Calculation: $kDotP = \\frac{1}{12}m(3h^2+w^2)$ (source: Fossen, T. I. (2011). Handbook of marine craft hydrodynamics and motion control. John Wiley & Sons.)\n",
    "\n",
    "$mDotQ$: Added mass in pitch direction [kgm^2]\n",
    "\n",
    "Calculation: $mDotQ = \\frac{1}{12}m(3h^2+l^2)$ (source: Fossen, T. I. (2011). Handbook of marine craft hydrodynamics and motion control. John Wiley & Sons.)\n",
    "\n",
    "$nDotR$: Added mass in yaw direction [kgm^2]\n",
    "\n",
    "Calculation: $nDotR = \\frac{1}{12}m(l^2+w^2)$ (source: Fossen, T. I. (2011). Handbook of marine craft hydrodynamics and motion control. John Wiley & Sons.)\n",
    "\n",
    "$xUU$: Stability derivative, 2nd order, x component [kg/m]\n",
    "\n",
    "Calculation: $xUU = -\\frac{1}{2}\\rho L^3C_{D,yy}$, where $\\rho$ is the fluid density, $L$ is the length of the box in the x direction, and $C_{D,yy}$ is the drag coefficient in the y direction (source: Fossen, T. I. (2011). Handbook of marine craft hydrodynamics and motion control. John Wiley & Sons.)\n",
    "\n",
    "$xU$: Stability derivative, 1st order, x component [kg]\n",
    "\n",
    "Calculation: $xU = -\\frac{1}{2}\\rho L^2C_{D,y}$, where $\\rho$ is the fluid density, $L$ is the length of the box in the x direction, and $C_{D,y}$ is the drag coefficient in the y direction (source: Fossen, T. I. (2011). Handbook of marine craft hydrodynamics and motion control. John Wiley & Sons.)\n",
    "\n",
    "$yVV$: Stability derivative, 2nd order, y component [kg/m]\n",
    "\n",
    "Calculation: $yVV = -\\frac{1}{2}\\rho L^3C_{D,xx}$, where $\\rho$ is the fluid density, $L$ is the length of the box in the y direction, and $C_{D,xx}$ is the drag coefficient in the x direction (source: Fossen, T. I. (2011). Handbook of marine craft hydrodynamics and motion control. John Wiley & Sons.)\n",
    "\n",
    "$yV$: Stability derivative, 1st order, y component [kg]\n",
    "\n",
    "Calculation: $yV = -\\frac{1}{2}\\rho L^2C_{D,x}$, where $\\rho$ is the fluid density, $L$ is the length of the box in the y direction, and $C_{D,x}$ is the drag coefficient in the x direction (source: Fossen, T. I. (2011). Handbook of marine craft hydrodynamics and motion control. John Wiley & Sons.)"
   ]
  }
 ],
 "metadata": {
  "kernelspec": {
   "display_name": "torch_env",
   "language": "python",
   "name": "python3"
  },
  "language_info": {
   "codemirror_mode": {
    "name": "ipython",
    "version": 3
   },
   "file_extension": ".py",
   "mimetype": "text/x-python",
   "name": "python",
   "nbconvert_exporter": "python",
   "pygments_lexer": "ipython3",
   "version": "3.8.13"
  },
  "orig_nbformat": 4
 },
 "nbformat": 4,
 "nbformat_minor": 2
}
